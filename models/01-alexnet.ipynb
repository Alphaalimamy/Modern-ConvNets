
<a name='0'></a>

# ConvNets Architectures - AlexNet
Most ConvNets architectures that we will cover were the results of the [ImageNet Challenge](https://image-net.org/challenges/LSVRC/index.php) that happened from 2010 to 2017, but the most exciting things happened between 2012-2017 and that's exactly what we are going to dive deep into.

Below image give a high-level overview of the revolution of the CNNs architectures on ImageNet Challenge.
